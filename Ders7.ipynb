{
  "nbformat": 4,
  "nbformat_minor": 0,
  "metadata": {
    "colab": {
      "provenance": []
    },
    "kernelspec": {
      "name": "python3",
      "display_name": "Python 3"
    },
    "language_info": {
      "name": "python"
    }
  },
  "cells": [
    {
      "cell_type": "code",
      "execution_count": 1,
      "metadata": {
        "colab": {
          "base_uri": "https://localhost:8080/"
        },
        "id": "YzGGX4B7ALz8",
        "outputId": "8cd89521-4ab1-4125-b95b-17c1ddd475be"
      },
      "outputs": [
        {
          "output_type": "stream",
          "name": "stdout",
          "text": [
            "Merhaba, İGÜ - İSTKA / Ders 7 !\n"
          ]
        }
      ],
      "source": [
        "print(\"Merhaba, İGÜ - İSTKA / Ders 7 !\")"
      ]
    },
    {
      "cell_type": "code",
      "source": [
        "import sys # import python programlama dilinde yazılıma kütüphane eklemeye yarayan bir kod blogudur.\n",
        "print(sys.version)"
      ],
      "metadata": {
        "colab": {
          "base_uri": "https://localhost:8080/"
        },
        "id": "m88T7CpjA4ti",
        "outputId": "43729aff-aeff-4c21-bfb1-6d1a82c525a4"
      },
      "execution_count": 2,
      "outputs": [
        {
          "output_type": "stream",
          "name": "stdout",
          "text": [
            "3.10.12 (main, Jul 29 2024, 16:56:48) [GCC 11.4.0]\n"
          ]
        }
      ]
    },
    {
      "cell_type": "code",
      "source": [
        "from google.colab import drive  # google colab - drive bağlantısı\n",
        "drive.mount('/content/drive')"
      ],
      "metadata": {
        "colab": {
          "base_uri": "https://localhost:8080/"
        },
        "id": "q5zljGszA8wS",
        "outputId": "1b6b7aa1-6d84-4bb7-e64a-975672dd4043"
      },
      "execution_count": 3,
      "outputs": [
        {
          "output_type": "stream",
          "name": "stdout",
          "text": [
            "Mounted at /content/drive\n"
          ]
        }
      ]
    },
    {
      "cell_type": "code",
      "source": [
        "import os\n",
        "\n",
        "os.chdir('/content/drive/My Drive/VERIYAPILARI_ISTKA')\n",
        "\n",
        "!pwd# bize kodun çıktısını dosya yolu olarak veren kod blogudur."
      ],
      "metadata": {
        "colab": {
          "base_uri": "https://localhost:8080/"
        },
        "id": "pUwCq_zIBIlp",
        "outputId": "34f73596-cbe1-4839-a839-94070a17cb75"
      },
      "execution_count": 4,
      "outputs": [
        {
          "output_type": "stream",
          "name": "stdout",
          "text": [
            "/bin/bash: line 1: pwd#: command not found\n"
          ]
        }
      ]
    },
    {
      "cell_type": "code",
      "source": [
        "import pandas as pd\n",
        "\n",
        "VeriSetiYolu = '/content/drive/My Drive/VERIYAPILARI_ISTKA/veriseti'\n",
        "\n",
        "for file in os.listdir(VeriSetiYolu):                         # Klasördeki tüm dosyaları listele\n",
        "\n",
        "      if file.endswith(('.xlsx', '.xls')):                     # Sadece Excel dosyalarını seç\n",
        "\n",
        "          df = pd.read_excel(os.path.join(VeriSetiYolu, file))  # Excel dosyasını pandas ile oku\n",
        "\n",
        "          df.to_csv(os.path.join(VeriSetiYolu, file.rsplit('.', 1)[0] + '.csv'), index=False)\n",
        "                                                                 # DataFrame'i CSV formatında kaydet\n",
        "          print(f\"{file} dosyası CSV formatına çevrildi.\")     # Çevrim İşlemi Çıktısı\n",
        "\n",
        "  # İşlem tamamlandığında kaç tane excel dosyası var ise o kadar *.csv formatına çevildiğininbilgisini almaktayız.\n"
      ],
      "metadata": {
        "colab": {
          "base_uri": "https://localhost:8080/"
        },
        "id": "i7lPBWEnEw0y",
        "outputId": "5a32790f-8bc9-4b68-d5c4-8b04e4c43a21"
      },
      "execution_count": 5,
      "outputs": [
        {
          "output_type": "stream",
          "name": "stdout",
          "text": [
            "atktan-geri-kazanm-miktarlar (2).xlsx dosyası CSV formatına çevrildi.\n"
          ]
        }
      ]
    },
    {
      "cell_type": "code",
      "source": [
        "import os\n",
        "import pandas as pd\n",
        "\n",
        "VeriSetiYolu = '/content/drive/My Drive/VERIYAPILARI_ISTKA/veriseti'\n",
        "\n",
        "  # VeriSetiYolu içindeki .csv dosyalarını bul ve say\n",
        "csv_dosyaları = [dosya for dosya in os.listdir(VeriSetiYolu) if dosya.endswith('.csv')]\n",
        "\n",
        "  # .csv dosya sayısını ekrana yazdır\n",
        "csv_dosya_sayisi = len(csv_dosyaları)\n",
        "print(f\"VeriSetiYolu içerisinde {csv_dosya_sayisi} tane .csv dosyası bulunuyor.\")\n"
      ],
      "metadata": {
        "colab": {
          "base_uri": "https://localhost:8080/"
        },
        "id": "zYDkMATmFKEy",
        "outputId": "c1ce5f15-55a9-4eac-df49-a0676f4fb036"
      },
      "execution_count": 10,
      "outputs": [
        {
          "output_type": "stream",
          "name": "stdout",
          "text": [
            "VeriSetiYolu içerisinde 2 tane .csv dosyası bulunuyor.\n"
          ]
        }
      ]
    },
    {
      "cell_type": "code",
      "source": [
        "import os\n",
        "import pandas as pd\n",
        "\n",
        "VeriSetiYolu = '/content/drive/My Drive/VERIYAPILARI_ISTKA/veriseti'\n",
        "\n",
        "# VeriSetiYolu içindeki .csv dosyalarını bul ve say\n",
        "csv_dosyalari = [dosya for dosya in os.listdir(VeriSetiYolu) if dosya.endswith('.csv')]\n",
        "\n",
        "# .csv dosya sayısını ekrana yazdır\n",
        "csv_dosya_sayisi = len(csv_dosyalari)\n",
        "print(f\"VeriSetiYolu içerisinde {csv_dosya_sayisi} tane .csv dosyası bulunuyor.\")\n",
        "\n",
        "# Mevcut *.csv uzantılı dosyaların isimlerini getiriyoruz.\n",
        "print(\"Bulunan CSV Dosyaları:\")\n",
        "for dosya in csv_dosyalari:\n",
        "    print(dosya)"
      ],
      "metadata": {
        "colab": {
          "base_uri": "https://localhost:8080/"
        },
        "id": "THz9V--47Qj5",
        "outputId": "bb9e953c-0c9b-4f02-ea76-52157a843123"
      },
      "execution_count": 11,
      "outputs": [
        {
          "output_type": "stream",
          "name": "stdout",
          "text": [
            "VeriSetiYolu içerisinde 2 tane .csv dosyası bulunuyor.\n",
            "Bulunan CSV Dosyaları:\n",
            "atktan-geri-kazanm-miktarlar (2).csv\n",
            "atık.csv\n"
          ]
        }
      ]
    }
  ]
}