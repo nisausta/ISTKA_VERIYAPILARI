{
  "nbformat": 4,
  "nbformat_minor": 0,
  "metadata": {
    "colab": {
      "provenance": []
    },
    "kernelspec": {
      "name": "python3",
      "display_name": "Python 3"
    },
    "language_info": {
      "name": "python"
    }
  },
  "cells": [
    {
      "cell_type": "code",
      "execution_count": null,
      "metadata": {
        "colab": {
          "base_uri": "https://localhost:8080/"
        },
        "id": "Ufcnxb67qCyh",
        "outputId": "aa629646-a9b8-4307-c52a-a657c89f27a8"
      },
      "outputs": [
        {
          "output_type": "stream",
          "name": "stdout",
          "text": [
            "Merhaba, İGÜ - İSTKA /   Quiz\n"
          ]
        }
      ],
      "source": [
        "print(\"Merhaba, İGÜ - İSTKA /   Quiz\") # print ekrana çıktı veren bir koddur."
      ]
    },
    {
      "cell_type": "code",
      "source": [
        "import sys # import python programlama dilinde yazılıma kütüphane eklemeye yarayan bir kod blogudur.\n",
        "print(sys.version)"
      ],
      "metadata": {
        "colab": {
          "base_uri": "https://localhost:8080/"
        },
        "id": "1-8h0mQfqEYW",
        "outputId": "25311a74-6faa-4eda-ce38-f7ee4c51baeb"
      },
      "execution_count": null,
      "outputs": [
        {
          "output_type": "stream",
          "name": "stdout",
          "text": [
            "3.10.12 (main, Jul 29 2024, 16:56:48) [GCC 11.4.0]\n"
          ]
        }
      ]
    },
    {
      "cell_type": "code",
      "source": [
        "from google.colab import drive # google colab - drive bağlantısı\n",
        "\n",
        "drive.mount('/content/drive')"
      ],
      "metadata": {
        "colab": {
          "base_uri": "https://localhost:8080/"
        },
        "id": "Q75_UszvqFzm",
        "outputId": "8a58ed7f-a942-41dc-ad96-bddc49b33caf"
      },
      "execution_count": null,
      "outputs": [
        {
          "output_type": "stream",
          "name": "stdout",
          "text": [
            "Mounted at /content/drive\n"
          ]
        }
      ]
    },
    {
      "cell_type": "code",
      "source": [
        "import os\n",
        "\n",
        "os.chdir('/content/drive/My Drive/VERIYAPILARI_ISTKA')\n",
        "\n",
        "!pwd # bize kodun çıktısını dosya yolu olarak veren kod blogudur."
      ],
      "metadata": {
        "colab": {
          "base_uri": "https://localhost:8080/"
        },
        "id": "HDevHWR2qHVV",
        "outputId": "258a4e8d-1074-4734-f960-fe7e04cfbd8a"
      },
      "execution_count": null,
      "outputs": [
        {
          "output_type": "stream",
          "name": "stdout",
          "text": [
            "/content/drive/My Drive/VERIYAPILARI_ISTKA\n"
          ]
        }
      ]
    },
    {
      "cell_type": "code",
      "source": [
        "isim_listesi = [\"Ali\", \"Şeraffettin\", \"Osman\",\"İclal\",\"Ayşe\"]\n",
        "#en uzun ismi bulan fonk\n",
        "def en_uzun_isim_bul(isim_listesi):\n",
        "  en_uzun_isim_bul = \"\"\n",
        "  for isim in isim_listesi:\n",
        "    if len(isim) > len(en_uzun_isim_bul):\n",
        "      en_uzun_isim_bul = isim\n",
        "  return en_uzun_isim_bul\n",
        "\n",
        "#en uzun ismin indexi bulan fonk\n",
        "def en_uzun_isim_index(isim_listesi):\n",
        "  en_uzun_isim_bul = en_uzun_isim_bul(isim_listesi)\n",
        "  en_uzun_isim_index = isim_listesi.index(en_uzun_isim_bul)\n",
        "  return en_uzun_isim_index\n",
        "\n",
        "\n",
        "\n",
        "en_uzun_isim_bul=en_uzun_isim_bul(isim_listesi)\n",
        "en_uzun_isim_index=isim_listesi.index(en_uzun_isim_bul)\n",
        "\n",
        "print(\"en uzun isim: \",en_uzun_isim_bul)\n",
        "print(\"en uzun isim indexi: \",en_uzun_isim_index)"
      ],
      "metadata": {
        "colab": {
          "base_uri": "https://localhost:8080/"
        },
        "id": "p1DDn_rdvhuP",
        "outputId": "1db5b633-e5f4-4cfd-e93a-5a047f3ffef4"
      },
      "execution_count": null,
      "outputs": [
        {
          "output_type": "stream",
          "name": "stdout",
          "text": [
            "en uzun isim:  Şeraffettin\n",
            "en uzun isim indexi:  1\n"
          ]
        }
      ]
    },
    {
      "cell_type": "code",
      "source": [
        "sayi_dizisi = []\n",
        "sayi=1\n",
        "\n",
        "while sayi <= 175:\n",
        "  if sayi % 13 == 0:\n",
        "    sayi_dizisi.append(sayi)\n",
        "  sayi += 1\n",
        "\n",
        "print(\"1 ile 175 arasındaki sayılar: \" ,sayi_dizisi)\n",
        "print(\"toplam sayı adeti:\",len(sayi_dizisi))\n"
      ],
      "metadata": {
        "colab": {
          "base_uri": "https://localhost:8080/"
        },
        "id": "YYri9u0e2lFc",
        "outputId": "69954935-10d8-4004-97ee-81e77f0fd9c6"
      },
      "execution_count": null,
      "outputs": [
        {
          "output_type": "stream",
          "name": "stdout",
          "text": [
            "1 ile 175 arasındaki sayılar:  [13, 26, 39, 52, 65, 78, 91, 104, 117, 130, 143, 156, 169]\n",
            "toplam sayı adeti: 13\n"
          ]
        }
      ]
    }
  ]
}