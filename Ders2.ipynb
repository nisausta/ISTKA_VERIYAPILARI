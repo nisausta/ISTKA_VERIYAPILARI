{
  "nbformat": 4,
  "nbformat_minor": 0,
  "metadata": {
    "colab": {
      "provenance": []
    },
    "kernelspec": {
      "name": "python3",
      "display_name": "Python 3"
    },
    "language_info": {
      "name": "python"
    }
  },
  "cells": [
    {
      "cell_type": "code",
      "execution_count": null,
      "metadata": {
        "colab": {
          "base_uri": "https://localhost:8080/"
        },
        "id": "9qRwgoEf2s1V",
        "outputId": "797198e3-e475-4be2-9412-a4a0ebf9d3ca"
      },
      "outputs": [
        {
          "output_type": "stream",
          "name": "stdout",
          "text": [
            "merhaba,İGU - ISTKA/ Ders 2\n"
          ]
        }
      ],
      "source": [
        "print(\"merhaba,İGU - ISTKA/ Ders 2\")# print ekrana çıktı veren bir koddur."
      ]
    },
    {
      "cell_type": "code",
      "source": [
        "import sys # import python programlama dilinde yazılıma kütüphane eklemeye yarayan bir kod blogudur.\n",
        "print(sys.version)"
      ],
      "metadata": {
        "colab": {
          "base_uri": "https://localhost:8080/"
        },
        "id": "GBmm3cBB5EH0",
        "outputId": "a1461d53-d04c-49c2-e8ab-7af429745acf"
      },
      "execution_count": null,
      "outputs": [
        {
          "output_type": "stream",
          "name": "stdout",
          "text": [
            "3.10.12 (main, Jul 29 2024, 16:56:48) [GCC 11.4.0]\n"
          ]
        }
      ]
    },
    {
      "cell_type": "code",
      "source": [
        "from google.colab import drive  # google colab - drive bağlantısı\n",
        "drive.mount('/content/drive')"
      ],
      "metadata": {
        "colab": {
          "base_uri": "https://localhost:8080/"
        },
        "id": "F4rj5OJS6RI4",
        "outputId": "a7aa6757-485a-46a3-bffb-8dabbebe8b21"
      },
      "execution_count": null,
      "outputs": [
        {
          "output_type": "stream",
          "name": "stdout",
          "text": [
            "Drive already mounted at /content/drive; to attempt to forcibly remount, call drive.mount(\"/content/drive\", force_remount=True).\n"
          ]
        }
      ]
    },
    {
      "cell_type": "code",
      "source": [
        "import os\n",
        "\n",
        "os.chdir('/content/drive/My Drive/VERIYAPILARI_ISTKA')\n",
        "\n",
        "!pwd# bize kodun çıktısını dosya yolu olarak veren kod blogudur."
      ],
      "metadata": {
        "id": "ca4ZF4RS8-2y",
        "outputId": "35092d3d-2cb8-4216-d54f-6f2751e48977",
        "colab": {
          "base_uri": "https://localhost:8080/"
        }
      },
      "execution_count": null,
      "outputs": [
        {
          "output_type": "stream",
          "name": "stdout",
          "text": [
            "/bin/bash: line 1: pwd#: command not found\n"
          ]
        }
      ]
    },
    {
      "cell_type": "code",
      "source": [
        "# Geçerli değişken tanımlaması\n",
        "degisken_1 = 10\n",
        "Degisken2 = 20\n",
        "_degisken3 = 30"
      ],
      "metadata": {
        "id": "eFVi8v0UqTC5"
      },
      "execution_count": null,
      "outputs": []
    },
    {
      "cell_type": "code",
      "source": [
        "# Geçersiz değişken tanımlaması\n",
        "1degisken = 40\n",
        "degisken-4 = 50\n"
      ],
      "metadata": {
        "colab": {
          "base_uri": "https://localhost:8080/",
          "height": 106
        },
        "id": "RgTQei6MwQ5Q",
        "outputId": "a31c052e-8809-41a4-b704-900e7a55aa97"
      },
      "execution_count": null,
      "outputs": [
        {
          "output_type": "error",
          "ename": "SyntaxError",
          "evalue": "invalid decimal literal (<ipython-input-11-1e142628f98a>, line 2)",
          "traceback": [
            "\u001b[0;36m  File \u001b[0;32m\"<ipython-input-11-1e142628f98a>\"\u001b[0;36m, line \u001b[0;32m2\u001b[0m\n\u001b[0;31m    1degisken = 40\u001b[0m\n\u001b[0m    ^\u001b[0m\n\u001b[0;31mSyntaxError\u001b[0m\u001b[0;31m:\u001b[0m invalid decimal literal\n"
          ]
        }
      ]
    },
    {
      "cell_type": "code",
      "source": [
        "\n",
        "# Değişken Tanımlama İşlemi\n",
        "\n",
        "x = 5\n",
        "y = \"Merhaba Dünya\"\n",
        "\n",
        "print(x)\n",
        "print(y)\n"
      ],
      "metadata": {
        "colab": {
          "base_uri": "https://localhost:8080/"
        },
        "id": "XNVdpTqNwnVn",
        "outputId": "01384182-91cb-438a-dae9-f47f9011df27"
      },
      "execution_count": null,
      "outputs": [
        {
          "output_type": "stream",
          "name": "stdout",
          "text": [
            "5\n",
            "Merhaba Dünya\n"
          ]
        }
      ]
    },
    {
      "cell_type": "code",
      "source": [
        "\n",
        "# Integer - Tamsayı tanımlaması\n",
        "\n",
        "a = 10\n",
        "print(type(a))"
      ],
      "metadata": {
        "colab": {
          "base_uri": "https://localhost:8080/"
        },
        "id": "KX4Pcd-o6dZJ",
        "outputId": "0452a3da-cf88-4a1f-fa26-7b06a3ec4db3"
      },
      "execution_count": null,
      "outputs": [
        {
          "output_type": "stream",
          "name": "stdout",
          "text": [
            "<class 'int'>\n"
          ]
        }
      ]
    },
    {
      "cell_type": "code",
      "source": [
        "# Float - Ondalıklı Sayı tanımlaması\n",
        "\n",
        "b = 20.5\n",
        "print(type(b))"
      ],
      "metadata": {
        "colab": {
          "base_uri": "https://localhost:8080/"
        },
        "id": "cPpJteJe6gEQ",
        "outputId": "d8ae9ce0-e0e5-4480-d4d4-a9b593f36995"
      },
      "execution_count": null,
      "outputs": [
        {
          "output_type": "stream",
          "name": "stdout",
          "text": [
            "<class 'float'>\n"
          ]
        }
      ]
    },
    {
      "cell_type": "code",
      "source": [
        "# float'tan int'e çevrimin gerçekleştirilmesi\n",
        "a = 12.34\n",
        "b = int(a)\n",
        "print(b, type(b))"
      ],
      "metadata": {
        "id": "CNEH7xT77Rq9"
      },
      "execution_count": null,
      "outputs": []
    },
    {
      "cell_type": "code",
      "source": [
        "# String - Metinsel içerik tanımlaması\n",
        "\n",
        "c = \"Python Programlama\"\n",
        "print(c)\n",
        "print(type(c))"
      ],
      "metadata": {
        "id": "Y0jDxyGp7TV3"
      },
      "execution_count": null,
      "outputs": []
    },
    {
      "cell_type": "code",
      "source": [
        "# String - Metinsel içerik tanımlaması\n",
        "\n",
        "c = \"Python Programlama\"\n",
        "print(c)\n",
        "print(type(c))"
      ],
      "metadata": {
        "id": "mxfCt1Z672h5"
      },
      "execution_count": null,
      "outputs": []
    },
    {
      "cell_type": "code",
      "source": [
        "# Boolean (True - False) - Doğru / Yanlış tanımlaması\n",
        "\n",
        "d = True\n",
        "e = False\n",
        "print(d)\n",
        "print(type(e))"
      ],
      "metadata": {
        "colab": {
          "base_uri": "https://localhost:8080/"
        },
        "id": "tCknqoek8cet",
        "outputId": "86c70b02-6168-4723-85a4-ba0223be6831"
      },
      "execution_count": null,
      "outputs": [
        {
          "output_type": "stream",
          "name": "stdout",
          "text": [
            "True\n",
            "<class 'bool'>\n"
          ]
        }
      ]
    },
    {
      "cell_type": "code",
      "source": [
        "# List - Liste tanımlaması\n",
        "\n",
        "my_list = [1, 2, 3, 4, 5]\n",
        "print(type(my_list))\n",
        "print(my_list)\n"
      ],
      "metadata": {
        "colab": {
          "base_uri": "https://localhost:8080/"
        },
        "id": "MDyC4qsg9909",
        "outputId": "424d4e3d-36c3-4ecf-be1c-dd47951b4a1e"
      },
      "execution_count": null,
      "outputs": [
        {
          "output_type": "stream",
          "name": "stdout",
          "text": [
            "<class 'list'>\n",
            "[1, 2, 3, 4, 5]\n"
          ]
        }
      ]
    },
    {
      "cell_type": "code",
      "source": [
        "# Tuple - Demet tanımlaması\n",
        "\n",
        "my_tuple = (1, 2, 3, 4, 5)\n",
        "print(type(my_tuple))\n",
        "print(my_tuple)"
      ],
      "metadata": {
        "colab": {
          "base_uri": "https://localhost:8080/"
        },
        "id": "bmlycdiL9_0-",
        "outputId": "0bbda6da-7c85-4109-f9d1-168490f45f62"
      },
      "execution_count": null,
      "outputs": [
        {
          "output_type": "stream",
          "name": "stdout",
          "text": [
            "<class 'tuple'>\n",
            "(1, 2, 3, 4, 5)\n"
          ]
        }
      ]
    },
    {
      "cell_type": "code",
      "source": [
        "# Dictionary - Sözlük Örneği -> Öğrencilerin notlarını tutan bir sözlük\n",
        "notlar = {\n",
        "    \"Ali\": 85,\n",
        "    \"Veli\": 90,\n",
        "    \"Ayşe\": 78\n",
        "}\n",
        "\n",
        "notlar[\"Fatma\"] = 92 # Yeni öğrenci ekleme\n",
        "\n",
        "notlar[\"Ali\"] = 88 # Bir öğrencinin notunu güncelleme\n",
        "\n",
        "print(notlar)"
      ],
      "metadata": {
        "colab": {
          "base_uri": "https://localhost:8080/"
        },
        "id": "9hX4Q8kGAMM5",
        "outputId": "0644d559-f895-4c60-9d9c-b4366374a15f"
      },
      "execution_count": null,
      "outputs": [
        {
          "output_type": "stream",
          "name": "stdout",
          "text": [
            "{'Ali': 88, 'Veli': 90, 'Ayşe': 78, 'Fatma': 92}\n"
          ]
        }
      ]
    },
    {
      "cell_type": "code",
      "source": [
        "\n",
        "print(notlar.keys())    # dict_keys(['isim', 'yas', 'meslek'])\n",
        "print(notlar.values())  # dict_values(['Ahmet', 26, 'Mühendis'])\n",
        "print(notlar.items())   # dict_items([('isim', 'Ahmet'), ('yas', 26), ('meslek', 'Mühendis')])\n"
      ],
      "metadata": {
        "colab": {
          "base_uri": "https://localhost:8080/"
        },
        "id": "mc2VggRfAOaY",
        "outputId": "bd1dd37b-bc1a-4f64-8ec1-a8d09baf9d4d"
      },
      "execution_count": null,
      "outputs": [
        {
          "output_type": "stream",
          "name": "stdout",
          "text": [
            "dict_keys(['Ali', 'Veli', 'Ayşe', 'Fatma'])\n",
            "dict_values([88, 90, 78, 92])\n",
            "dict_items([('Ali', 88), ('Veli', 90), ('Ayşe', 78), ('Fatma', 92)])\n"
          ]
        }
      ]
    },
    {
      "cell_type": "code",
      "source": [
        "# Set - Küme Örneği -> Bir yazılım etkinliğine katılan kişilerin oluşturduğu kümeler\n",
        "kodyazanlar = {\"Ahmet\", \"Mehmet\", \"Ayşe\"}\n",
        "kodyazmayanlar = {\"Ayşe\", \"Fatma\", \"Veli\"}\n",
        "\n",
        "# Kafasına Göre Takılan Öğrenciler\n",
        "ortak = kodyazanlar.intersection(kodyazmayanlar)\n",
        "print(\"Kafasına Göre Takılan Öğrencilerin Listesi:\", ortak)\n",
        "\n",
        "# Etkinlikte Kod Çalışması Yapmayan Öğrencilerin Tespiti\n",
        "Kod_yazmayan = kodyazmayanlar.difference(kodyazanlar)\n",
        "print(\"Kod çalışması yapmayan öğrenci listesi:\", Kod_yazmayan)\n",
        "\n",
        "# Yazılım Eğitiminin Öğrenci İmza Listesi\n",
        "imza_listesi = kodyazanlar.union(kodyazmayanlar)\n",
        "print(\"Etkinlik katılımcıları:\", imza_listesi)"
      ],
      "metadata": {
        "colab": {
          "base_uri": "https://localhost:8080/"
        },
        "id": "uEir_6x-CICI",
        "outputId": "5c1fa558-ad9c-49ca-b1f4-d284103da705"
      },
      "execution_count": null,
      "outputs": [
        {
          "output_type": "stream",
          "name": "stdout",
          "text": [
            "Kafasına Göre Takılan Öğrencilerin Listesi: {'Ayşe'}\n",
            "Kod çalışması yapmayan öğrenci listesi: {'Fatma', 'Veli'}\n",
            "Etkinlik katılımcıları: {'Fatma', 'Mehmet', 'Ayşe', 'Veli', 'Ahmet'}\n"
          ]
        }
      ]
    },
    {
      "cell_type": "code",
      "source": [
        "giris = input(\"Bir sayı girin: \")\n",
        "try:\n",
        "    num = float(giris)\n",
        "    print(f\"Girilen sayı: {num}, tipi: {type(num)},\", abs(num))\n",
        "except ValueError:\n",
        "    print(\"Geçersiz veri girdiniz.\")\n"
      ],
      "metadata": {
        "colab": {
          "base_uri": "https://localhost:8080/"
        },
        "id": "26qXeAfxEXdx",
        "outputId": "13eab9dd-211c-4da8-8c1d-65ed500a5c22"
      },
      "execution_count": null,
      "outputs": [
        {
          "output_type": "stream",
          "name": "stdout",
          "text": [
            "Bir sayı girin: 5\n",
            "Girilen sayı: 5.0, tipi: <class 'float'>, 5.0\n"
          ]
        }
      ]
    },
    {
      "cell_type": "code",
      "source": [
        "\n",
        " # 0 ile 1 arasında rastgele bir ondalık sayı üretir\n",
        "\n",
        "import random\n",
        "\n",
        "rastgele_float = random.random()\n",
        "print(\"Rastgele Deger:\", rastgele_float)"
      ],
      "metadata": {
        "colab": {
          "base_uri": "https://localhost:8080/"
        },
        "id": "BcpGvWClFMzc",
        "outputId": "03ad15f8-5202-489b-ffde-4980bca03bf7"
      },
      "execution_count": null,
      "outputs": [
        {
          "output_type": "stream",
          "name": "stdout",
          "text": [
            "Rastgele Deger: 0.23252657082369743\n"
          ]
        }
      ]
    },
    {
      "cell_type": "code",
      "source": [
        "\n",
        "\n",
        "# 1 ile 10 arasında (her iki sınır dahil) rastgele bir tam sayı üretir\n",
        "\n",
        "import random\n",
        "\n",
        "rastgele_sayi = random.randint(1, 10)\n",
        "print(\"Rastgele Deger:\", rastgele_sayi)"
      ],
      "metadata": {
        "colab": {
          "base_uri": "https://localhost:8080/"
        },
        "id": "Dq__LDUVFP8L",
        "outputId": "add20005-d298-42c2-9637-adce6691b15e"
      },
      "execution_count": null,
      "outputs": [
        {
          "output_type": "stream",
          "name": "stdout",
          "text": [
            "Rastgele Deger: 7\n"
          ]
        }
      ]
    }
  ]
}